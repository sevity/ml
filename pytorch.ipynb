{
 "cells": [
  {
   "cell_type": "code",
   "execution_count": 7,
   "metadata": {},
   "outputs": [],
   "source": [
    "import numpy as np\n",
    "import torch\n",
    "import torch.nn as nn\n",
    "import torch.nn.functional as F\n",
    "import torch.optim as optim\n",
    "from torch.autograd import Variable\n",
    "\n",
    "# sample XOR network\n",
    "class Net(nn.Module):\n",
    "    def __init__(self):\n",
    "        super(Net, self).__init__()\n",
    "        self.fc1 = nn.Linear(2, 5)  # 2 input nodes, 5 in middle layers\n",
    "        self.fc2 = nn.Linear(5, 1)  # 5 middle layer, 1 output node\n",
    "        self.rl1 = nn.ReLU()\n",
    "        self.rl2 = nn.ReLU()\n",
    "    def forward(self, x):\n",
    "        x = self.fc1(x)\n",
    "        x = self.rl1(x)\n",
    "        x = self.fc2(x)\n",
    "        x = self.rl2(x)\n",
    "        return x\n",
    "\n",
    "net = Net()"
   ]
  },
  {
   "cell_type": "code",
   "execution_count": 8,
   "metadata": {},
   "outputs": [
    {
     "data": {
      "text/plain": [
       "OrderedDict([('fc1.weight', tensor([[ 0.3237, -0.2276],\n",
       "                      [-0.4743,  0.1147],\n",
       "                      [-0.5772,  0.7005],\n",
       "                      [-0.4083,  0.6805],\n",
       "                      [-0.4670, -0.0914]])),\n",
       "             ('fc1.bias',\n",
       "              tensor([-0.0046, -0.0348,  0.3284,  0.6702,  0.2633])),\n",
       "             ('fc2.weight',\n",
       "              tensor([[ 0.1509, -0.3814,  0.2621, -0.0716, -0.0952]])),\n",
       "             ('fc2.bias', tensor([0.4308]))])"
      ]
     },
     "execution_count": 8,
     "metadata": {},
     "output_type": "execute_result"
    }
   ],
   "source": [
    "#네트웍 파라미터들 표시해줌\n",
    "net.state_dict()"
   ]
  },
  {
   "cell_type": "code",
   "execution_count": 10,
   "metadata": {},
   "outputs": [],
   "source": [
    "# 아래 방법으로 복사하는 방법도 있음\n",
    "net2 = Net()\n",
    "net2.load_state_dict(net.state_dict())"
   ]
  },
  {
   "cell_type": "code",
   "execution_count": 12,
   "metadata": {},
   "outputs": [
    {
     "data": {
      "text/plain": [
       "<generator object Module.parameters at 0x11ac4cd58>"
      ]
     },
     "execution_count": 12,
     "metadata": {},
     "output_type": "execute_result"
    }
   ],
   "source": [
    "# 아래건 뭐지? state_dict()랑 다른건가? 이건 dict가 아니라 object가 나오네??\n",
    "net.parameters()"
   ]
  },
  {
   "cell_type": "code",
   "execution_count": 13,
   "metadata": {},
   "outputs": [
    {
     "name": "stdout",
     "output_type": "stream",
     "text": [
      "Parameter containing:\n",
      "tensor([[ 0.3237, -0.2276],\n",
      "        [-0.4743,  0.1147],\n",
      "        [-0.5772,  0.7005],\n",
      "        [-0.4083,  0.6805],\n",
      "        [-0.4670, -0.0914]], requires_grad=True)\n",
      "Parameter containing:\n",
      "tensor([-0.0046, -0.0348,  0.3284,  0.6702,  0.2633], requires_grad=True)\n",
      "Parameter containing:\n",
      "tensor([[ 0.1509, -0.3814,  0.2621, -0.0716, -0.0952]], requires_grad=True)\n",
      "Parameter containing:\n",
      "tensor([0.4308], requires_grad=True)\n"
     ]
    }
   ],
   "source": [
    "# object라기 보다 generator였네.. 아래처럼 하면 내용을 들여다 볼 수 있나보다..\n",
    "for param in net.parameters():\n",
    "    print(param)"
   ]
  },
  {
   "cell_type": "code",
   "execution_count": null,
   "metadata": {},
   "outputs": [],
   "source": []
  }
 ],
 "metadata": {
  "kernelspec": {
   "display_name": "Python 3",
   "language": "python",
   "name": "python3"
  },
  "language_info": {
   "codemirror_mode": {
    "name": "ipython",
    "version": 3
   },
   "file_extension": ".py",
   "mimetype": "text/x-python",
   "name": "python",
   "nbconvert_exporter": "python",
   "pygments_lexer": "ipython3",
   "version": "3.6.6"
  }
 },
 "nbformat": 4,
 "nbformat_minor": 2
}
