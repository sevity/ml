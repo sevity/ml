{
 "cells": [
  {
   "cell_type": "code",
   "execution_count": 1,
   "metadata": {},
   "outputs": [],
   "source": [
    "import numpy as np\n",
    "import torch\n",
    "import torch.nn as nn\n",
    "import torch.nn.functional as F\n",
    "import torch.optim as optim\n",
    "from torch.autograd import Variable\n",
    "\n",
    "# sample XOR network\n",
    "class Net(nn.Module):\n",
    "    def __init__(self):\n",
    "        super(Net, self).__init__()\n",
    "        self.fc1 = nn.Linear(2, 5)  # 2 input nodes, 5 in middle layers\n",
    "        self.fc2 = nn.Linear(5, 1)  # 5 middle layer, 1 output node\n",
    "        self.rl1 = nn.ReLU()\n",
    "        self.rl2 = nn.ReLU()\n",
    "    def forward(self, x):\n",
    "        x = self.fc1(x)\n",
    "        x = self.rl1(x)\n",
    "        x = self.fc2(x)\n",
    "        x = self.rl2(x)\n",
    "        return x\n",
    "\n",
    "net = Net()"
   ]
  },
  {
   "cell_type": "code",
   "execution_count": 2,
   "metadata": {},
   "outputs": [
    {
     "data": {
      "text/plain": [
       "OrderedDict([('fc1.weight', tensor([[-0.6911, -0.1359],\n",
       "                      [-0.6907,  0.1217],\n",
       "                      [-0.4225,  0.5771],\n",
       "                      [ 0.6387,  0.3361],\n",
       "                      [-0.3418, -0.0449]])),\n",
       "             ('fc1.bias',\n",
       "              tensor([ 0.3638, -0.5852,  0.3752,  0.2166,  0.0893])),\n",
       "             ('fc2.weight',\n",
       "              tensor([[-0.1772,  0.2562, -0.3120,  0.4012, -0.3505]])),\n",
       "             ('fc2.bias', tensor([-0.1292]))])"
      ]
     },
     "execution_count": 2,
     "metadata": {},
     "output_type": "execute_result"
    }
   ],
   "source": [
    "#네트웍 파라미터들 표시해줌\n",
    "net.state_dict()"
   ]
  },
  {
   "cell_type": "code",
   "execution_count": 3,
   "metadata": {},
   "outputs": [],
   "source": [
    "# 아래 방법으로 복사하는 방법도 있음\n",
    "net2 = Net()\n",
    "net2.load_state_dict(net.state_dict())"
   ]
  },
  {
   "cell_type": "code",
   "execution_count": 4,
   "metadata": {},
   "outputs": [
    {
     "data": {
      "text/plain": [
       "<generator object Module.parameters at 0x11529b468>"
      ]
     },
     "execution_count": 4,
     "metadata": {},
     "output_type": "execute_result"
    }
   ],
   "source": [
    "# 아래건 뭐지? state_dict()랑 다른건가? 이건 dict가 아니라 object가 나오네??\n",
    "net.parameters()"
   ]
  },
  {
   "cell_type": "code",
   "execution_count": 5,
   "metadata": {},
   "outputs": [
    {
     "name": "stdout",
     "output_type": "stream",
     "text": [
      "Parameter containing:\n",
      "tensor([[-0.6911, -0.1359],\n",
      "        [-0.6907,  0.1217],\n",
      "        [-0.4225,  0.5771],\n",
      "        [ 0.6387,  0.3361],\n",
      "        [-0.3418, -0.0449]], requires_grad=True)\n",
      "Parameter containing:\n",
      "tensor([ 0.3638, -0.5852,  0.3752,  0.2166,  0.0893], requires_grad=True)\n",
      "Parameter containing:\n",
      "tensor([[-0.1772,  0.2562, -0.3120,  0.4012, -0.3505]], requires_grad=True)\n",
      "Parameter containing:\n",
      "tensor([-0.1292], requires_grad=True)\n"
     ]
    }
   ],
   "source": [
    "# object라기 보다 generator였네.. 아래처럼 하면 내용을 들여다 볼 수 있나보다..\n",
    "for param in net.parameters():\n",
    "    print(param)"
   ]
  },
  {
   "cell_type": "code",
   "execution_count": 7,
   "metadata": {},
   "outputs": [
    {
     "data": {
      "text/plain": [
       "Net(\n",
       "  (fc1): Linear(in_features=2, out_features=5, bias=True)\n",
       "  (fc2): Linear(in_features=5, out_features=1, bias=True)\n",
       "  (rl1): ReLU()\n",
       "  (rl2): ReLU()\n",
       ")"
      ]
     },
     "execution_count": 7,
     "metadata": {},
     "output_type": "execute_result"
    }
   ],
   "source": [
    "# 요거 잘은 모르겠는데 multiprocess 환경에서 net을 서로 공유할때 불러줘야 하는 함수인것 같다.\n",
    "# https://pytorch.org/docs/stable/tensors.html\n",
    "# https://pytorch.org/docs/stable/notes/multiprocessing.html\n",
    "# multiprocess 환경에서의 간단한 pytorch sample은 다음 링크 참조\n",
    "# https://github.com/MorvanZhou/pytorch-A3C\n",
    "net.share_memory()"
   ]
  },
  {
   "cell_type": "code",
   "execution_count": null,
   "metadata": {},
   "outputs": [],
   "source": []
  }
 ],
 "metadata": {
  "kernelspec": {
   "display_name": "Python 3",
   "language": "python",
   "name": "python3"
  },
  "language_info": {
   "codemirror_mode": {
    "name": "ipython",
    "version": 3
   },
   "file_extension": ".py",
   "mimetype": "text/x-python",
   "name": "python",
   "nbconvert_exporter": "python",
   "pygments_lexer": "ipython3",
   "version": "3.6.6"
  }
 },
 "nbformat": 4,
 "nbformat_minor": 2
}
